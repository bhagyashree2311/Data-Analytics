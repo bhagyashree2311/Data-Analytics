{
  "cells": [
    {
      "cell_type": "code",
      "execution_count": null,
      "metadata": {
        "id": "b-lPBZ_Wx9tq"
      },
      "outputs": [],
      "source": [
        "# Date:10/26/21"
      ]
    },
    {
      "cell_type": "markdown",
      "metadata": {
        "id": "dCZ2EN2QyTN6"
      },
      "source": [
        "\n",
        "DATA:: Student-mat.csv  Link :: https://www.kaggle.com/dipam7/student-grade-prediction\n",
        "\n",
        "1. Find the number of rural and urbal students whoes mother is not at home means she is working\n",
        "\n",
        "2. Find value count of total grades for all urban students whoes family size is less than 3\n",
        "\n",
        "3. Do analysis on travel time of the students. Based on that conclude what is effect of travel time on students with different genders for their total grades.\n",
        "\n",
        "\n",
        "\n",
        "\n",
        "\n",
        "DATA:: Market Arrivals .csv  \n",
        "\n",
        "1. Find the market with maximum records in this data\n",
        "\n",
        "2. Find state with maximum number of markets in it\n",
        "\n",
        "3. Choose one market. Find the maximum pricemax for that market for every year\n",
        "\n",
        "4. One company from punjab whats to purchase Wheat from the market in big quantity. \n",
        "Suggest best month to buy the wheat.\n",
        "## Decision: priceMod and quantity\n",
        "\n",
        "\n",
        "\n",
        "\n",
        "DATA:: avocado.csv  Link :: https://www.kaggle.com/neuromusic/avocado-prices\n",
        "\n",
        "1. Find the date when maximum total volume transaction is done\n",
        "\n",
        "2. Find the total of bags including both conventional and organic types, for every day and every region ( Hint: use group by)\n",
        "\n",
        "3. Find the region where maximum total volume of organic avocado were sold in year 2016\n",
        "\n",
        "\n",
        "\n"
      ]
    },
    {
      "cell_type": "markdown",
      "metadata": {
        "id": "X2T5ymqvyi0N"
      },
      "source": [
        "Part2\n"
      ]
    },
    {
      "cell_type": "code",
      "execution_count": 2,
      "metadata": {
        "id": "dFK7kBbey3Rz"
      },
      "outputs": [],
      "source": [
        "import pandas as pd"
      ]
    },
    {
      "cell_type": "code",
      "execution_count": 3,
      "metadata": {
        "id": "oFQvvYu9y6y-"
      },
      "outputs": [],
      "source": [
        "df=pd.read_csv(\"/content/MarketArrivals.csv\")"
      ]
    },
    {
      "cell_type": "code",
      "execution_count": 4,
      "metadata": {
        "colab": {
          "base_uri": "https://localhost:8080/"
        },
        "id": "E48GBI_VzD0Q",
        "outputId": "f8f31b5c-32b2-47fa-9dcd-2874f207b02f"
      },
      "outputs": [
        {
          "data": {
            "text/plain": [
              "(10227, 10)"
            ]
          },
          "execution_count": 4,
          "metadata": {},
          "output_type": "execute_result"
        }
      ],
      "source": [
        "df.shape"
      ]
    },
    {
      "cell_type": "code",
      "execution_count": 5,
      "metadata": {
        "colab": {
          "base_uri": "https://localhost:8080/",
          "height": 421
        },
        "id": "L-64LEyMzMVt",
        "outputId": "e8e4c588-cf3a-478a-87c1-99c83b379f0d"
      },
      "outputs": [
        {
          "data": {
            "text/html": [
              "<div>\n",
              "<style scoped>\n",
              "    .dataframe tbody tr th:only-of-type {\n",
              "        vertical-align: middle;\n",
              "    }\n",
              "\n",
              "    .dataframe tbody tr th {\n",
              "        vertical-align: top;\n",
              "    }\n",
              "\n",
              "    .dataframe thead th {\n",
              "        text-align: right;\n",
              "    }\n",
              "</style>\n",
              "<table border=\"1\" class=\"dataframe\">\n",
              "  <thead>\n",
              "    <tr style=\"text-align: right;\">\n",
              "      <th></th>\n",
              "      <th>market</th>\n",
              "      <th>month</th>\n",
              "      <th>year</th>\n",
              "      <th>quantity</th>\n",
              "      <th>priceMin</th>\n",
              "      <th>priceMax</th>\n",
              "      <th>priceMod</th>\n",
              "      <th>state</th>\n",
              "      <th>city</th>\n",
              "      <th>date</th>\n",
              "    </tr>\n",
              "  </thead>\n",
              "  <tbody>\n",
              "    <tr>\n",
              "      <th>0</th>\n",
              "      <td>ABOHAR(PB)</td>\n",
              "      <td>January</td>\n",
              "      <td>2005</td>\n",
              "      <td>2350</td>\n",
              "      <td>404</td>\n",
              "      <td>493</td>\n",
              "      <td>446</td>\n",
              "      <td>PB</td>\n",
              "      <td>ABOHAR</td>\n",
              "      <td>January-2005</td>\n",
              "    </tr>\n",
              "    <tr>\n",
              "      <th>1</th>\n",
              "      <td>ABOHAR(PB)</td>\n",
              "      <td>January</td>\n",
              "      <td>2006</td>\n",
              "      <td>900</td>\n",
              "      <td>487</td>\n",
              "      <td>638</td>\n",
              "      <td>563</td>\n",
              "      <td>PB</td>\n",
              "      <td>ABOHAR</td>\n",
              "      <td>January-2006</td>\n",
              "    </tr>\n",
              "    <tr>\n",
              "      <th>2</th>\n",
              "      <td>ABOHAR(PB)</td>\n",
              "      <td>January</td>\n",
              "      <td>2010</td>\n",
              "      <td>790</td>\n",
              "      <td>1283</td>\n",
              "      <td>1592</td>\n",
              "      <td>1460</td>\n",
              "      <td>PB</td>\n",
              "      <td>ABOHAR</td>\n",
              "      <td>January-2010</td>\n",
              "    </tr>\n",
              "    <tr>\n",
              "      <th>3</th>\n",
              "      <td>ABOHAR(PB)</td>\n",
              "      <td>January</td>\n",
              "      <td>2011</td>\n",
              "      <td>245</td>\n",
              "      <td>3067</td>\n",
              "      <td>3750</td>\n",
              "      <td>3433</td>\n",
              "      <td>PB</td>\n",
              "      <td>ABOHAR</td>\n",
              "      <td>January-2011</td>\n",
              "    </tr>\n",
              "    <tr>\n",
              "      <th>4</th>\n",
              "      <td>ABOHAR(PB)</td>\n",
              "      <td>January</td>\n",
              "      <td>2012</td>\n",
              "      <td>1035</td>\n",
              "      <td>523</td>\n",
              "      <td>686</td>\n",
              "      <td>605</td>\n",
              "      <td>PB</td>\n",
              "      <td>ABOHAR</td>\n",
              "      <td>January-2012</td>\n",
              "    </tr>\n",
              "    <tr>\n",
              "      <th>...</th>\n",
              "      <td>...</td>\n",
              "      <td>...</td>\n",
              "      <td>...</td>\n",
              "      <td>...</td>\n",
              "      <td>...</td>\n",
              "      <td>...</td>\n",
              "      <td>...</td>\n",
              "      <td>...</td>\n",
              "      <td>...</td>\n",
              "      <td>...</td>\n",
              "    </tr>\n",
              "    <tr>\n",
              "      <th>10222</th>\n",
              "      <td>YEOLA(MS)</td>\n",
              "      <td>December</td>\n",
              "      <td>2011</td>\n",
              "      <td>131326</td>\n",
              "      <td>282</td>\n",
              "      <td>612</td>\n",
              "      <td>526</td>\n",
              "      <td>MS</td>\n",
              "      <td>YEOLA</td>\n",
              "      <td>December-2011</td>\n",
              "    </tr>\n",
              "    <tr>\n",
              "      <th>10223</th>\n",
              "      <td>YEOLA(MS)</td>\n",
              "      <td>December</td>\n",
              "      <td>2012</td>\n",
              "      <td>207066</td>\n",
              "      <td>485</td>\n",
              "      <td>1327</td>\n",
              "      <td>1136</td>\n",
              "      <td>MS</td>\n",
              "      <td>YEOLA</td>\n",
              "      <td>December-2012</td>\n",
              "    </tr>\n",
              "    <tr>\n",
              "      <th>10224</th>\n",
              "      <td>YEOLA(MS)</td>\n",
              "      <td>December</td>\n",
              "      <td>2013</td>\n",
              "      <td>215883</td>\n",
              "      <td>472</td>\n",
              "      <td>1427</td>\n",
              "      <td>1177</td>\n",
              "      <td>MS</td>\n",
              "      <td>YEOLA</td>\n",
              "      <td>December-2013</td>\n",
              "    </tr>\n",
              "    <tr>\n",
              "      <th>10225</th>\n",
              "      <td>YEOLA(MS)</td>\n",
              "      <td>December</td>\n",
              "      <td>2014</td>\n",
              "      <td>201077</td>\n",
              "      <td>446</td>\n",
              "      <td>1654</td>\n",
              "      <td>1456</td>\n",
              "      <td>MS</td>\n",
              "      <td>YEOLA</td>\n",
              "      <td>December-2014</td>\n",
              "    </tr>\n",
              "    <tr>\n",
              "      <th>10226</th>\n",
              "      <td>YEOLA(MS)</td>\n",
              "      <td>December</td>\n",
              "      <td>2015</td>\n",
              "      <td>223315</td>\n",
              "      <td>609</td>\n",
              "      <td>1446</td>\n",
              "      <td>1126</td>\n",
              "      <td>MS</td>\n",
              "      <td>YEOLA</td>\n",
              "      <td>December-2015</td>\n",
              "    </tr>\n",
              "  </tbody>\n",
              "</table>\n",
              "<p>10227 rows × 10 columns</p>\n",
              "</div>"
            ],
            "text/plain": [
              "           market     month  year  ...  state    city           date\n",
              "0      ABOHAR(PB)   January  2005  ...     PB  ABOHAR   January-2005\n",
              "1      ABOHAR(PB)   January  2006  ...     PB  ABOHAR   January-2006\n",
              "2      ABOHAR(PB)   January  2010  ...     PB  ABOHAR   January-2010\n",
              "3      ABOHAR(PB)   January  2011  ...     PB  ABOHAR   January-2011\n",
              "4      ABOHAR(PB)   January  2012  ...     PB  ABOHAR   January-2012\n",
              "...           ...       ...   ...  ...    ...     ...            ...\n",
              "10222   YEOLA(MS)  December  2011  ...     MS   YEOLA  December-2011\n",
              "10223   YEOLA(MS)  December  2012  ...     MS   YEOLA  December-2012\n",
              "10224   YEOLA(MS)  December  2013  ...     MS   YEOLA  December-2013\n",
              "10225   YEOLA(MS)  December  2014  ...     MS   YEOLA  December-2014\n",
              "10226   YEOLA(MS)  December  2015  ...     MS   YEOLA  December-2015\n",
              "\n",
              "[10227 rows x 10 columns]"
            ]
          },
          "execution_count": 5,
          "metadata": {},
          "output_type": "execute_result"
        }
      ],
      "source": [
        "df.columns\n",
        "df\n",
        "# df.loc[df['market']=='AHMEDABAD(GUJ)'].value_counts()\n"
      ]
    },
    {
      "cell_type": "markdown",
      "metadata": {
        "id": "oL-HP5GUzS6-"
      },
      "source": [
        "Q2 . 1.Find the market with maximum records in this data"
      ]
    },
    {
      "cell_type": "code",
      "execution_count": 6,
      "metadata": {
        "colab": {
          "base_uri": "https://localhost:8080/"
        },
        "id": "Bt88tjjuzNqf",
        "outputId": "dca1877a-5714-45fe-c192-eeff232921c0"
      },
      "outputs": [
        {
          "data": {
            "text/plain": [
              "market\n",
              "LASALGAON(MS)    242\n",
              "Name: market, dtype: int64"
            ]
          },
          "execution_count": 6,
          "metadata": {},
          "output_type": "execute_result"
        }
      ],
      "source": [
        "# df.loc[df['market'].value_counts(), 'market'].max()\n",
        "\n",
        "df['market'].mode()\n",
        "df['market'].value_counts().head(1)\n",
        "df.groupby('market')['market'].count().sort_values(ascending=False).head(1)\n",
        "df.groupby('market')['market'].count().sort_values().tail(1)"
      ]
    },
    {
      "cell_type": "markdown",
      "metadata": {
        "id": "yX8S4flj2vJ7"
      },
      "source": [
        "Q2. 2.Find state with maximum number of markets in it"
      ]
    },
    {
      "cell_type": "code",
      "execution_count": 7,
      "metadata": {
        "colab": {
          "base_uri": "https://localhost:8080/"
        },
        "id": "7JzpCcFj0rlM",
        "outputId": "0480e91b-61dd-4824-a88e-30299b282a02"
      },
      "outputs": [
        {
          "data": {
            "text/plain": [
              "state\n",
              "MS    38\n",
              "Name: market, dtype: int64"
            ]
          },
          "execution_count": 7,
          "metadata": {},
          "output_type": "execute_result"
        }
      ],
      "source": [
        "# 1\n",
        "# df.groupby('state')['market'].nunique().sort_values().tail(1)\n",
        "# nunique(): number of unique values\n",
        "# 2\n",
        "df1=df[['state','market']].drop_duplicates()\n",
        "df1.groupby('state')['market'].count().sort_values().tail(1)\n",
        "\n"
      ]
    },
    {
      "cell_type": "markdown",
      "metadata": {
        "id": "QLb40R-S9OUI"
      },
      "source": [
        "Choose one market. Find the maximum pricemax for that market for every year\n"
      ]
    },
    {
      "cell_type": "code",
      "execution_count": 8,
      "metadata": {
        "colab": {
          "base_uri": "https://localhost:8080/",
          "height": 421
        },
        "id": "DiTuNidC3e7y",
        "outputId": "21a7df37-492f-4b11-cdd6-82d78a9b7091"
      },
      "outputs": [
        {
          "data": {
            "text/html": [
              "<div>\n",
              "<style scoped>\n",
              "    .dataframe tbody tr th:only-of-type {\n",
              "        vertical-align: middle;\n",
              "    }\n",
              "\n",
              "    .dataframe tbody tr th {\n",
              "        vertical-align: top;\n",
              "    }\n",
              "\n",
              "    .dataframe thead th {\n",
              "        text-align: right;\n",
              "    }\n",
              "</style>\n",
              "<table border=\"1\" class=\"dataframe\">\n",
              "  <thead>\n",
              "    <tr style=\"text-align: right;\">\n",
              "      <th></th>\n",
              "      <th>market</th>\n",
              "      <th>month</th>\n",
              "      <th>year</th>\n",
              "      <th>quantity</th>\n",
              "      <th>priceMin</th>\n",
              "      <th>priceMax</th>\n",
              "      <th>priceMod</th>\n",
              "      <th>state</th>\n",
              "      <th>city</th>\n",
              "      <th>date</th>\n",
              "    </tr>\n",
              "  </thead>\n",
              "  <tbody>\n",
              "    <tr>\n",
              "      <th>5399</th>\n",
              "      <td>LASALGAON(MS)</td>\n",
              "      <td>January</td>\n",
              "      <td>1996</td>\n",
              "      <td>225063</td>\n",
              "      <td>160</td>\n",
              "      <td>257</td>\n",
              "      <td>226</td>\n",
              "      <td>MS</td>\n",
              "      <td>LASALGAON</td>\n",
              "      <td>January-1996</td>\n",
              "    </tr>\n",
              "    <tr>\n",
              "      <th>5400</th>\n",
              "      <td>LASALGAON(MS)</td>\n",
              "      <td>January</td>\n",
              "      <td>1997</td>\n",
              "      <td>241225</td>\n",
              "      <td>126</td>\n",
              "      <td>323</td>\n",
              "      <td>290</td>\n",
              "      <td>MS</td>\n",
              "      <td>LASALGAON</td>\n",
              "      <td>January-1997</td>\n",
              "    </tr>\n",
              "    <tr>\n",
              "      <th>5401</th>\n",
              "      <td>LASALGAON(MS)</td>\n",
              "      <td>January</td>\n",
              "      <td>1998</td>\n",
              "      <td>125731</td>\n",
              "      <td>225</td>\n",
              "      <td>1447</td>\n",
              "      <td>1037</td>\n",
              "      <td>MS</td>\n",
              "      <td>LASALGAON</td>\n",
              "      <td>January-1998</td>\n",
              "    </tr>\n",
              "    <tr>\n",
              "      <th>5402</th>\n",
              "      <td>LASALGAON(MS)</td>\n",
              "      <td>January</td>\n",
              "      <td>1999</td>\n",
              "      <td>236001</td>\n",
              "      <td>310</td>\n",
              "      <td>545</td>\n",
              "      <td>498</td>\n",
              "      <td>MS</td>\n",
              "      <td>LASALGAON</td>\n",
              "      <td>January-1999</td>\n",
              "    </tr>\n",
              "    <tr>\n",
              "      <th>5403</th>\n",
              "      <td>LASALGAON(MS)</td>\n",
              "      <td>January</td>\n",
              "      <td>2000</td>\n",
              "      <td>390783</td>\n",
              "      <td>145</td>\n",
              "      <td>341</td>\n",
              "      <td>225</td>\n",
              "      <td>MS</td>\n",
              "      <td>LASALGAON</td>\n",
              "      <td>January-2000</td>\n",
              "    </tr>\n",
              "    <tr>\n",
              "      <th>...</th>\n",
              "      <td>...</td>\n",
              "      <td>...</td>\n",
              "      <td>...</td>\n",
              "      <td>...</td>\n",
              "      <td>...</td>\n",
              "      <td>...</td>\n",
              "      <td>...</td>\n",
              "      <td>...</td>\n",
              "      <td>...</td>\n",
              "      <td>...</td>\n",
              "    </tr>\n",
              "    <tr>\n",
              "      <th>5636</th>\n",
              "      <td>LASALGAON(MS)</td>\n",
              "      <td>December</td>\n",
              "      <td>2011</td>\n",
              "      <td>213720</td>\n",
              "      <td>223</td>\n",
              "      <td>803</td>\n",
              "      <td>575</td>\n",
              "      <td>MS</td>\n",
              "      <td>LASALGAON</td>\n",
              "      <td>December-2011</td>\n",
              "    </tr>\n",
              "    <tr>\n",
              "      <th>5637</th>\n",
              "      <td>LASALGAON(MS)</td>\n",
              "      <td>December</td>\n",
              "      <td>2012</td>\n",
              "      <td>498275</td>\n",
              "      <td>586</td>\n",
              "      <td>1390</td>\n",
              "      <td>1207</td>\n",
              "      <td>MS</td>\n",
              "      <td>LASALGAON</td>\n",
              "      <td>December-2012</td>\n",
              "    </tr>\n",
              "    <tr>\n",
              "      <th>5638</th>\n",
              "      <td>LASALGAON(MS)</td>\n",
              "      <td>December</td>\n",
              "      <td>2013</td>\n",
              "      <td>343533</td>\n",
              "      <td>955</td>\n",
              "      <td>1690</td>\n",
              "      <td>1335</td>\n",
              "      <td>MS</td>\n",
              "      <td>LASALGAON</td>\n",
              "      <td>December-2013</td>\n",
              "    </tr>\n",
              "    <tr>\n",
              "      <th>5639</th>\n",
              "      <td>LASALGAON(MS)</td>\n",
              "      <td>December</td>\n",
              "      <td>2014</td>\n",
              "      <td>246504</td>\n",
              "      <td>884</td>\n",
              "      <td>1705</td>\n",
              "      <td>1514</td>\n",
              "      <td>MS</td>\n",
              "      <td>LASALGAON</td>\n",
              "      <td>December-2014</td>\n",
              "    </tr>\n",
              "    <tr>\n",
              "      <th>5640</th>\n",
              "      <td>LASALGAON(MS)</td>\n",
              "      <td>December</td>\n",
              "      <td>2015</td>\n",
              "      <td>438498</td>\n",
              "      <td>923</td>\n",
              "      <td>1690</td>\n",
              "      <td>1280</td>\n",
              "      <td>MS</td>\n",
              "      <td>LASALGAON</td>\n",
              "      <td>December-2015</td>\n",
              "    </tr>\n",
              "  </tbody>\n",
              "</table>\n",
              "<p>242 rows × 10 columns</p>\n",
              "</div>"
            ],
            "text/plain": [
              "             market     month  year  ...  state       city           date\n",
              "5399  LASALGAON(MS)   January  1996  ...     MS  LASALGAON   January-1996\n",
              "5400  LASALGAON(MS)   January  1997  ...     MS  LASALGAON   January-1997\n",
              "5401  LASALGAON(MS)   January  1998  ...     MS  LASALGAON   January-1998\n",
              "5402  LASALGAON(MS)   January  1999  ...     MS  LASALGAON   January-1999\n",
              "5403  LASALGAON(MS)   January  2000  ...     MS  LASALGAON   January-2000\n",
              "...             ...       ...   ...  ...    ...        ...            ...\n",
              "5636  LASALGAON(MS)  December  2011  ...     MS  LASALGAON  December-2011\n",
              "5637  LASALGAON(MS)  December  2012  ...     MS  LASALGAON  December-2012\n",
              "5638  LASALGAON(MS)  December  2013  ...     MS  LASALGAON  December-2013\n",
              "5639  LASALGAON(MS)  December  2014  ...     MS  LASALGAON  December-2014\n",
              "5640  LASALGAON(MS)  December  2015  ...     MS  LASALGAON  December-2015\n",
              "\n",
              "[242 rows x 10 columns]"
            ]
          },
          "execution_count": 8,
          "metadata": {},
          "output_type": "execute_result"
        }
      ],
      "source": [
        "# ABOHAR(PB)\n",
        "\n",
        "# # df[df.groupby('pricemax','year')]['market'=='ABOHAR(PB)']\n",
        "# df1=df.groupby(['priceMax','year','market'])\n",
        "# df1\n",
        "df1=df[df['market']=='LASALGAON(MS)'] # complete df/all rows for city col=LASALGAON\n",
        "df1.groupby('year')['priceMax'].max()\n",
        "df1"
      ]
    },
    {
      "cell_type": "markdown",
      "metadata": {
        "id": "6rak2gaaWWRV"
      },
      "source": [
        "4. One company from punjab whats to purchase Wheat from the market in big quantity. \n",
        "Suggest best month to buy the wheat.\n",
        "## Decision: priceMod and quantity"
      ]
    },
    {
      "cell_type": "code",
      "execution_count": 9,
      "metadata": {
        "colab": {
          "base_uri": "https://localhost:8080/",
          "height": 80
        },
        "id": "UpJid0eXWVyV",
        "outputId": "a16ef4f3-1621-4e89-e28d-b0da31e7df5f"
      },
      "outputs": [
        {
          "data": {
            "text/html": [
              "<div>\n",
              "<style scoped>\n",
              "    .dataframe tbody tr th:only-of-type {\n",
              "        vertical-align: middle;\n",
              "    }\n",
              "\n",
              "    .dataframe tbody tr th {\n",
              "        vertical-align: top;\n",
              "    }\n",
              "\n",
              "    .dataframe thead th {\n",
              "        text-align: right;\n",
              "    }\n",
              "</style>\n",
              "<table border=\"1\" class=\"dataframe\">\n",
              "  <thead>\n",
              "    <tr style=\"text-align: right;\">\n",
              "      <th></th>\n",
              "      <th>month</th>\n",
              "    </tr>\n",
              "  </thead>\n",
              "  <tbody>\n",
              "    <tr>\n",
              "      <th>634</th>\n",
              "      <td>May</td>\n",
              "    </tr>\n",
              "  </tbody>\n",
              "</table>\n",
              "</div>"
            ],
            "text/plain": [
              "    month\n",
              "634   May"
            ]
          },
          "execution_count": 9,
          "metadata": {},
          "output_type": "execute_result"
        }
      ],
      "source": [
        "# Best Month in punjab\n",
        "# 1. price mod\n",
        "# 2. quantity\n",
        "# 3. min in filtered from above 2\n",
        "df1=df[df['state']=='PB']\n",
        "df4=df1.groupby(['month','market','priceMod'])['quantity'].max().max()\n",
        "df4\n",
        "df.loc[(df['state']=='PB') & (df['quantity']==52300),['month']]\n",
        "\n",
        "#e.g. display(dataFrame.loc[(dataFrame['Salary']>=100000) & (dataFrame['Age']< 40) & (dataFrame['JOB'].str.startswith('D')),['Name','JOB']])\n",
        "\n",
        "# df2=df1.groupby(['market'])['priceMod'].min()\n",
        "# df2\n",
        "\n",
        "# df.loc[(df['market']=='JALANDHAR(PB)') & (df['quantity'].max())]\n",
        "\n",
        "# df3=df1.groupby('month')['priceMod'].min() & ['quantity'].max()\n",
        "# df3\n",
        "# df2.min() #250\n",
        "# type(df2)\n",
        "# df2.shape\n",
        "# df2[1]\n"
      ]
    },
    {
      "cell_type": "code",
      "execution_count": null,
      "metadata": {
        "colab": {
          "base_uri": "https://localhost:8080/"
        },
        "id": "IwRyFKAB9z1E",
        "outputId": "3989d598-61fc-41fd-d4d6-8534b120bf5b"
      },
      "outputs": [
        {
          "data": {
            "text/plain": [
              "0        False\n",
              "1        False\n",
              "2        False\n",
              "3        False\n",
              "4        False\n",
              "         ...  \n",
              "10222    False\n",
              "10223    False\n",
              "10224    False\n",
              "10225    False\n",
              "10226    False\n",
              "Name: market, Length: 10227, dtype: bool"
            ]
          },
          "execution_count": 76,
          "metadata": {},
          "output_type": "execute_result"
        }
      ],
      "source": [
        "# df3=df1.groupby(['market'])['quantity'].max()\n",
        "# df3\n",
        "# df['market']=='AMRITSAR(PB)'\n"
      ]
    },
    {
      "cell_type": "code",
      "execution_count": null,
      "metadata": {
        "id": "2BwVeaffhT9G"
      },
      "outputs": [],
      "source": [
        "# get geo based location of states close to punjab\n",
        "# get prices of wheat from those states\n",
        "# then compare those\n",
        "\n"
      ]
    },
    {
      "cell_type": "markdown",
      "metadata": {
        "id": "JHeFvv93k-vq"
      },
      "source": [
        "======================================================================================================\n"
      ]
    },
    {
      "cell_type": "markdown",
      "metadata": {
        "id": "5OHuZjQxlELF"
      },
      "source": [
        "DATA:: Student-mat.csv Link :: https://www.kaggle.com/dipam7/student-grade-prediction\n",
        "\n",
        "Find the number of rural and urbal students whoes mother is not at home means she is working\n",
        "\n",
        "Find value count of total grades for all urban students whoes family size is less than 3\n",
        "\n",
        "Do analysis on travel time of the students. Based on that conclude what is effect of travel time on students with different genders for their total grades."
      ]
    },
    {
      "cell_type": "code",
      "execution_count": null,
      "metadata": {
        "colab": {
          "base_uri": "https://localhost:8080/",
          "height": 413
        },
        "id": "wTeZ93u1hdFL",
        "outputId": "51b381ab-11b3-48c4-cd0f-cb77f35cf3be"
      },
      "outputs": [],
      "source": [
        "import pandas as pd\n",
        "df=pd.read_csv(\"/content/student-mat.csv\")\n",
        "df"
      ]
    },
    {
      "cell_type": "code",
      "execution_count": null,
      "metadata": {
        "colab": {
          "base_uri": "https://localhost:8080/"
        },
        "id": "F6ktPDbFlM1t",
        "outputId": "d4d81f0b-22da-4c9b-8365-58af9f7e17a7"
      },
      "outputs": [
        {
          "data": {
            "text/plain": [
              "395"
            ]
          },
          "execution_count": 108,
          "metadata": {},
          "output_type": "execute_result"
        }
      ],
      "source": [
        "# Find the number of rural and urbal students whoes mother is not at home means she is working\n",
        "(df['Mjob']=='at_home').count()\n",
        "# ((df['Mjob']=='at_home')==True).count()"
      ]
    },
    {
      "cell_type": "code",
      "execution_count": null,
      "metadata": {
        "colab": {
          "base_uri": "https://localhost:8080/"
        },
        "id": "kLms3IPQmcFv",
        "outputId": "28f13b7f-9b77-4a93-cce9-7e757a6e8bb6"
      },
      "outputs": [
        {
          "data": {
            "text/plain": [
              "46    6\n",
              "28    6\n",
              "30    5\n",
              "27    5\n",
              "35    4\n",
              "36    4\n",
              "38    4\n",
              "39    4\n",
              "33    4\n",
              "45    4\n",
              "32    3\n",
              "24    3\n",
              "37    3\n",
              "19    3\n",
              "34    3\n",
              "26    3\n",
              "25    2\n",
              "23    2\n",
              "22    2\n",
              "21    2\n",
              "56    2\n",
              "40    2\n",
              "44    2\n",
              "31    1\n",
              "49    1\n",
              "7     1\n",
              "11    1\n",
              "16    1\n",
              "18    1\n",
              "50    1\n",
              "20    1\n",
              "48    1\n",
              "53    1\n",
              "47    1\n",
              "43    1\n",
              "42    1\n",
              "41    1\n",
              "29    1\n",
              "6     1\n",
              "dtype: int64"
            ]
          },
          "execution_count": 136,
          "metadata": {},
          "output_type": "execute_result"
        }
      ],
      "source": [
        "# Find value count of total grades for all urban students whoes family size is less than 3\n",
        "\n",
        "df1=df[(df['address']=='U') & (df['famsize']=='LE3')]\n",
        "(df1.G1+df1.G2+df1.G3).value_counts()"
      ]
    },
    {
      "cell_type": "code",
      "execution_count": null,
      "metadata": {
        "colab": {
          "base_uri": "https://localhost:8080/"
        },
        "id": "c85MgmB1qZ_o",
        "outputId": "7e8acf46-4f30-4d4c-b90a-3717aaf069fd"
      },
      "outputs": [
        {
          "data": {
            "text/plain": [
              "10"
            ]
          },
          "execution_count": 195,
          "metadata": {},
          "output_type": "execute_result"
        }
      ],
      "source": [
        "# Do analysis on travel time of the students. Based on that conclude what is effect of travel time on students with different genders for their total grades.\n",
        "df_f=df[df['sex']=='F']\n",
        "# df1['G1'].isna().any()\n",
        "df_1=df_f[df_f.traveltime==df_f.traveltime.min()] #All rows where sex==F and traveltime=1\n",
        "# df2=df1.loc[df1.traveltime.min()] gives first row where traveltime is min\n",
        "\n",
        "# df2.G1.drop_duplicates()\n",
        "# df1\n",
        "# df1['G2'].mode()\n",
        "df1.G3.mode().max()\n"
      ]
    },
    {
      "cell_type": "code",
      "execution_count": null,
      "metadata": {
        "colab": {
          "base_uri": "https://localhost:8080/"
        },
        "id": "pKOEk8zByqte",
        "outputId": "aa5cc1d3-1ca9-4297-e878-3fdf16feb8d3"
      },
      "outputs": [
        {
          "data": {
            "text/plain": [
              "[10, 9, 11]"
            ]
          },
          "execution_count": 196,
          "metadata": {},
          "output_type": "execute_result"
        }
      ],
      "source": [
        "traveltime_1_F=[(df_1.G1.mode().max()),(df_1.G2.mode().max()),(df_1.G3.mode().max())]\n",
        "traveltime_1_F"
      ]
    },
    {
      "cell_type": "code",
      "execution_count": null,
      "metadata": {
        "colab": {
          "base_uri": "https://localhost:8080/"
        },
        "id": "BkQBu3dN0vIg",
        "outputId": "563da32e-ac87-43db-8d68-63924a497ce3"
      },
      "outputs": [
        {
          "data": {
            "text/plain": [
              "[10, 10, 10]"
            ]
          },
          "execution_count": 197,
          "metadata": {},
          "output_type": "execute_result"
        }
      ],
      "source": [
        "df_2=df_f[df_f.traveltime==2]\n",
        "traveltime_2_F=[(df_2.G1.mode().max()),(df_2.G2.mode().max()),(df_2.G3.mode().max())]\n",
        "traveltime_2_F"
      ]
    },
    {
      "cell_type": "code",
      "execution_count": null,
      "metadata": {
        "colab": {
          "base_uri": "https://localhost:8080/"
        },
        "id": "tucfMPJI0u7n",
        "outputId": "a7ebac84-78b1-409d-b909-9231bdbfc197"
      },
      "outputs": [
        {
          "data": {
            "text/plain": [
              "[14, 12, 13]"
            ]
          },
          "execution_count": 198,
          "metadata": {},
          "output_type": "execute_result"
        }
      ],
      "source": [
        "df_3=df_f[df_f.traveltime==3]\n",
        "traveltime_3_F=[(df_3.G1.mode().max()),(df_3.G2.mode().max()),(df_3.G3.mode().max())]\n",
        "traveltime_3_F"
      ]
    },
    {
      "cell_type": "code",
      "execution_count": null,
      "metadata": {
        "colab": {
          "base_uri": "https://localhost:8080/"
        },
        "id": "HTwS6Q_J0uwg",
        "outputId": "3cf733f9-9177-46e0-ae2a-db1d2b433be1"
      },
      "outputs": [
        {
          "data": {
            "text/plain": [
              "[14, 12, 13]"
            ]
          },
          "execution_count": 199,
          "metadata": {},
          "output_type": "execute_result"
        }
      ],
      "source": [
        "df_4=df_f[df_f.traveltime==3]\n",
        "traveltime_4_F=[(df_4.G1.mode().max()),(df_4.G2.mode().max()),(df_4.G3.mode().max())]\n",
        "traveltime_4_F"
      ]
    },
    {
      "cell_type": "code",
      "execution_count": null,
      "metadata": {
        "id": "jMd0G0tS0ukR"
      },
      "outputs": [],
      "source": [
        "# import matplotlib.pyplot as plt\n",
        "# import numpy as np\n",
        "# N = 3\n",
        "# ind = np.arange(N) \n",
        "# width = 0.25\n",
        "  \n",
        "# wvals = traveltime_1_F\n",
        "# bar1 = plt.bar(ind, wvals, width, color = 'r')\n",
        "  \n",
        "# xvals = traveltime_2_F\n",
        "# bar2 = plt.bar(ind+width, xvals, width, color='g')\n",
        "  \n",
        "# yvals = traveltime_3_F\n",
        "# bar3 = plt.bar(ind+width*2, yvals, width, color = 'b')\n",
        "\n",
        "# zvals = traveltime_4_F\n",
        "# bar4 = plt.bar(ind+width*2, zvals, width, color = 'c')\n",
        "  \n",
        "# plt.xlabel(\"Travel Time\")\n",
        "# plt.ylabel('Grades')\n",
        "# plt.title(\"Observation Female\")\n",
        "  \n",
        "# plt.xticks(ind+width,['TravelTime1', 'TravelTime2', 'TravelTime3', 'TravelTime4'])\n",
        "# plt.legend( (bar1, bar2, bar3, bar4), ('Grade 1', 'Grade 2', 'Grade 3') )\n",
        "# plt.show()"
      ]
    },
    {
      "cell_type": "code",
      "execution_count": null,
      "metadata": {
        "id": "nnybyhXR7Isr"
      },
      "outputs": [],
      "source": [
        "data_F={\n",
        "    'traveltime_1_F':traveltime_1_F,\n",
        "    'traveltime_2_F':traveltime_2_F,\n",
        "    'traveltime_3_F':traveltime_3_F,\n",
        "    'traveltime_4_F': traveltime_4_F\n",
        "\n",
        "}"
      ]
    },
    {
      "cell_type": "code",
      "execution_count": null,
      "metadata": {
        "colab": {
          "base_uri": "https://localhost:8080/",
          "height": 265
        },
        "id": "0EFkhYd866H4",
        "outputId": "9a7b5197-c0fc-4aa9-b4a9-7f00d21ac099"
      },
      "outputs": [
        {
          "data": {
            "image/png": "[encoded data removed]",
            "text/plain": [
              "<Figure size 432x288 with 1 Axes>"
            ]
          },
          "metadata": {
            "needs_background": "light"
          },
          "output_type": "display_data"
        }
      ],
      "source": [
        "bar_width=0\n",
        "def bar_plot(ax, data, colors=None, total_width=0.8, single_width=1, legend=True):\n",
        "    \"\"\"Draws a bar plot with multiple bars per data point.\n",
        "\n",
        "    Parameters\n",
        "    ----------\n",
        "    ax : matplotlib.pyplot.axis\n",
        "        The axis we want to draw our plot on.\n",
        "\n",
        "    data: dictionary\n",
        "        A dictionary containing the data we want to plot. Keys are the names of the\n",
        "        data, the items is a list of the values.\n",
        "\n",
        "        Example:\n",
        "        data = {\n",
        "            \"x\":[1,2,3],\n",
        "            \"y\":[1,2,3],\n",
        "            \"z\":[1,2,3],\n",
        "        }\n",
        "\n",
        "    colors : array-like, optional\n",
        "        A list of colors which are used for the bars. If None, the colors\n",
        "        will be the standard matplotlib color cyle. (default: None)\n",
        "\n",
        "    total_width : float, optional, default: 0.8\n",
        "        The width of a bar group. 0.8 means that 80% of the x-axis is covered\n",
        "        by bars and 20% will be spaces between the bars.\n",
        "\n",
        "    single_width: float, optional, default: 1\n",
        "        The relative width of a single bar within a group. 1 means the bars\n",
        "        will touch eachother within a group, values less than 1 will make\n",
        "        these bars thinner.\n",
        "\n",
        "    legend: bool, optional, default: True\n",
        "        If this is set to true, a legend will be added to the axis.\n",
        "    \"\"\"\n",
        "\n",
        "    # Check if colors where provided, otherwhise use the default color cycle\n",
        "    if colors is None:\n",
        "        colors = plt.rcParams['axes.prop_cycle'].by_key()['color']\n",
        "\n",
        "    # Number of bars per group\n",
        "    n_bars = len(data)\n",
        "\n",
        "    # The width of a single bar\n",
        "    bar_width = total_width / n_bars\n",
        "\n",
        "    # List containing handles for the drawn bars, used for the legend\n",
        "    bars = []\n",
        "\n",
        "    # Iterate over all data\n",
        "    for i, (name, values) in enumerate(data.items()):\n",
        "        # The offset in x direction of that bar\n",
        "        x_offset = (i - n_bars / 2) * bar_width + bar_width / 2\n",
        "\n",
        "        # Draw a bar for every value of that type\n",
        "        for x, y in enumerate(values):\n",
        "            bar = ax.bar(x + x_offset, y, width=bar_width * single_width, color=colors[i % len(colors)])\n",
        "\n",
        "        # Add a handle to the last drawn bar, which we'll need for the legend\n",
        "        bars.append(bar[0])\n",
        "\n",
        "    # Draw legend if we need\n",
        "    if legend:\n",
        "        ax.legend(bars, data.keys())\n",
        "\n",
        "ind=3\n",
        "fig, ax = plt.subplots()\n",
        "bar_plot(ax, data_F, total_width=.8, single_width=.9)\n",
        "# plt.xticks(ind+bar_width,['Grade 1', 'Grade 2', 'Grade 3'])\n",
        "# plt.legend( (bar1, bar2, bar3, bar4), ('Grade 1', 'Grade 2', 'Grade 3') )\n",
        "plt.show()"
      ]
    },
    {
      "cell_type": "code",
      "execution_count": null,
      "metadata": {
        "id": "dj1gGWdb7_gF"
      },
      "outputs": [],
      "source": []
    },
    {
      "cell_type": "code",
      "execution_count": null,
      "metadata": {
        "id": "KOo8NhYh7_Iy"
      },
      "outputs": [],
      "source": []
    },
    {
      "cell_type": "code",
      "execution_count": null,
      "metadata": {
        "colab": {
          "base_uri": "https://localhost:8080/"
        },
        "id": "lfiJ2Y09sCKV",
        "outputId": "fb2c075d-56ee-4866-8a73-eb3a8222fcb1"
      },
      "outputs": [
        {
          "data": {
            "text/plain": [
              "0    10\n",
              "dtype: int64"
            ]
          },
          "execution_count": 134,
          "metadata": {},
          "output_type": "execute_result"
        }
      ],
      "source": [
        "# df2=df[df['sex']=='M']\n",
        "# # df1['G1'].isna().any()\n",
        "# df2['G1'].mode()\n",
        "# df2['G2'].mode()\n",
        "# # df2['G3'].mode()"
      ]
    },
    {
      "cell_type": "code",
      "execution_count": null,
      "metadata": {
        "colab": {
          "base_uri": "https://localhost:8080/"
        },
        "id": "b6k__wh-uIvo",
        "outputId": "2f2e2089-37b7-48c0-d212-e6be732e27fb"
      },
      "outputs": [
        {
          "data": {
            "text/plain": [
              "[15, 12, 11]"
            ]
          },
          "execution_count": 201,
          "metadata": {},
          "output_type": "execute_result"
        }
      ],
      "source": [
        "df_M=df[df['sex']=='M']\n",
        "# df1['G1'].isna().any()\n",
        "df_M1=df_M[df_M.traveltime==df_M.traveltime.min()]\n",
        "\n",
        "traveltime_1_M=[(df_M1.G1.mode().max()),(df_M1.G2.mode().max()),(df_M1.G3.mode().max())]\n",
        "traveltime_1_M"
      ]
    },
    {
      "cell_type": "code",
      "execution_count": null,
      "metadata": {
        "colab": {
          "base_uri": "https://localhost:8080/"
        },
        "id": "rZ3aHuvs15kD",
        "outputId": "95218509-909e-4ebc-bad4-1fb2990571de"
      },
      "outputs": [
        {
          "data": {
            "text/plain": [
              "[11, 11, 10]"
            ]
          },
          "execution_count": 202,
          "metadata": {},
          "output_type": "execute_result"
        }
      ],
      "source": [
        "df_M2=df_M[df_M.traveltime==2]\n",
        "traveltime_2_M=[(df_M2.G1.mode().max()),(df_M2.G2.mode().max()),(df_M2.G3.mode().max())]\n",
        "traveltime_2_M"
      ]
    },
    {
      "cell_type": "code",
      "execution_count": null,
      "metadata": {
        "colab": {
          "base_uri": "https://localhost:8080/"
        },
        "id": "E9-H86bO2Ogi",
        "outputId": "a230c1ea-6a92-4299-85a7-0e366c5dec7c"
      },
      "outputs": [
        {
          "data": {
            "text/plain": [
              "[9, 12, 10]"
            ]
          },
          "execution_count": 203,
          "metadata": {},
          "output_type": "execute_result"
        }
      ],
      "source": [
        "df_M3=df_M[df_M.traveltime==3]\n",
        "traveltime_3_M=[(df_M3.G1.mode().max()),(df_M3.G2.mode().max()),(df_M3.G3.mode().max())]\n",
        "traveltime_3_M"
      ]
    },
    {
      "cell_type": "code",
      "execution_count": null,
      "metadata": {
        "colab": {
          "base_uri": "https://localhost:8080/"
        },
        "id": "MkwNivPH2Vq9",
        "outputId": "b6b4bfc0-ffac-467c-c0b1-eb869768fdeb"
      },
      "outputs": [
        {
          "data": {
            "text/plain": [
              "[11, 11, 10]"
            ]
          },
          "execution_count": 204,
          "metadata": {},
          "output_type": "execute_result"
        }
      ],
      "source": [
        "df_M4=df_M[df_M.traveltime==2]\n",
        "traveltime_4_M=[(df_M4.G1.mode().max()),(df_M4.G2.mode().max()),(df_M4.G3.mode().max())]\n",
        "traveltime_4_M"
      ]
    },
    {
      "cell_type": "code",
      "execution_count": null,
      "metadata": {
        "id": "0EysKzoU2adQ"
      },
      "outputs": [],
      "source": [
        "# import matplotlib.pyplot as plt\n",
        "# import numpy as np\n",
        "# N = 3\n",
        "# ind = np.arange(N) \n",
        "# width = 0.25\n",
        "  \n",
        "# xvals = traveltime_1_M\n",
        "# bar1 = plt.bar(ind, xvals, width, color = 'r')\n",
        "  \n",
        "# yvals = traveltime_2_M\n",
        "# bar2 = plt.bar(ind+width, yvals, width, color='g')\n",
        "  \n",
        "# zvals = traveltime_3_M\n",
        "# bar3 = plt.bar(ind+width*2, zvals, width, color = 'b')\n",
        "\n",
        "# z1vals = traveltime_4_M\n",
        "# bar3 = plt.bar(ind+width*2, z1vals, width, color = 'c')\n",
        "  \n",
        "# plt.xlabel(\"Travel Time\")\n",
        "# plt.ylabel('Grades')\n",
        "# plt.title(\"Observation\")\n",
        "  \n",
        "# plt.xticks(ind+width,['TravelTime1', 'TravelTime2', 'TravelTime3', 'TravelTime4'])\n",
        "# plt.legend( (bar1, bar2, bar3), ('Grade 1', 'Grade 2', 'Grade 3') )\n",
        "# plt.show()"
      ]
    },
    {
      "cell_type": "code",
      "execution_count": null,
      "metadata": {
        "id": "-FO85MAC5LrB"
      },
      "outputs": [],
      "source": [
        "data_M={\n",
        "    'traveltime_1_M':traveltime_1_M,\n",
        "    'traveltime_2_M':traveltime_2_M,\n",
        "    'traveltime_3_M':traveltime_3_M,\n",
        "    'traveltime_4_M': traveltime_4_M\n",
        "\n",
        "}"
      ]
    },
    {
      "cell_type": "code",
      "execution_count": null,
      "metadata": {
        "colab": {
          "base_uri": "https://localhost:8080/",
          "height": 265
        },
        "id": "6IeM4zlW7uvA",
        "outputId": "ced6b36f-399c-4b3d-ff2f-b3d9fe691a20"
      },
      "outputs": [
        {
          "data": {
            "image/png": "[encoded data removed]",
            "text/plain": [
              "<Figure size 432x288 with 1 Axes>"
            ]
          },
          "metadata": {
            "needs_background": "light"
          },
          "output_type": "display_data"
        }
      ],
      "source": [
        "fig, ax = plt.subplots()\n",
        "bar_plot(ax, data_M, total_width=.8, single_width=.9)\n",
        "plt.show()"
      ]
    },
    {
      "cell_type": "markdown",
      "metadata": {
        "id": "CFMvFmLS9tyl"
      },
      "source": [
        "=================================================================================================================="
      ]
    },
    {
      "cell_type": "markdown",
      "metadata": {
        "id": "ukm405Mp99_e"
      },
      "source": [
        "DATA:: avocado.csv Link :: https://www.kaggle.com/neuromusic/avocado-prices\n",
        "\n",
        "Find the date when maximum total volume transaction is done\n",
        "\n",
        "Find the total of bags including both conventional and organic types, for every day and every region ( Hint: use group by)\n",
        "\n",
        "Find the region where maximum total volume of organic avocado were sold in year 2016"
      ]
    },
    {
      "cell_type": "code",
      "execution_count": 11,
      "metadata": {
        "colab": {
          "base_uri": "https://localhost:8080/",
          "height": 611
        },
        "id": "buAZBhE_7yKk",
        "outputId": "6c3a7f65-9ddb-45ab-b64a-63527c105f8f"
      },
      "outputs": [
        {
          "data": {
            "text/html": [
              "<div>\n",
              "<style scoped>\n",
              "    .dataframe tbody tr th:only-of-type {\n",
              "        vertical-align: middle;\n",
              "    }\n",
              "\n",
              "    .dataframe tbody tr th {\n",
              "        vertical-align: top;\n",
              "    }\n",
              "\n",
              "    .dataframe thead th {\n",
              "        text-align: right;\n",
              "    }\n",
              "</style>\n",
              "<table border=\"1\" class=\"dataframe\">\n",
              "  <thead>\n",
              "    <tr style=\"text-align: right;\">\n",
              "      <th></th>\n",
              "      <th>Unnamed: 0</th>\n",
              "      <th>Date</th>\n",
              "      <th>AveragePrice</th>\n",
              "      <th>Total Volume</th>\n",
              "      <th>4046</th>\n",
              "      <th>4225</th>\n",
              "      <th>4770</th>\n",
              "      <th>Total Bags</th>\n",
              "      <th>Small Bags</th>\n",
              "      <th>Large Bags</th>\n",
              "      <th>XLarge Bags</th>\n",
              "      <th>type</th>\n",
              "      <th>year</th>\n",
              "      <th>region</th>\n",
              "    </tr>\n",
              "  </thead>\n",
              "  <tbody>\n",
              "    <tr>\n",
              "      <th>0</th>\n",
              "      <td>0</td>\n",
              "      <td>2015-12-27</td>\n",
              "      <td>1.33</td>\n",
              "      <td>64236.62</td>\n",
              "      <td>1036.74</td>\n",
              "      <td>54454.85</td>\n",
              "      <td>48.16</td>\n",
              "      <td>8696.87</td>\n",
              "      <td>8603.62</td>\n",
              "      <td>93.25</td>\n",
              "      <td>0.0</td>\n",
              "      <td>conventional</td>\n",
              "      <td>2015</td>\n",
              "      <td>Albany</td>\n",
              "    </tr>\n",
              "    <tr>\n",
              "      <th>1</th>\n",
              "      <td>1</td>\n",
              "      <td>2015-12-20</td>\n",
              "      <td>1.35</td>\n",
              "      <td>54876.98</td>\n",
              "      <td>674.28</td>\n",
              "      <td>44638.81</td>\n",
              "      <td>58.33</td>\n",
              "      <td>9505.56</td>\n",
              "      <td>9408.07</td>\n",
              "      <td>97.49</td>\n",
              "      <td>0.0</td>\n",
              "      <td>conventional</td>\n",
              "      <td>2015</td>\n",
              "      <td>Albany</td>\n",
              "    </tr>\n",
              "    <tr>\n",
              "      <th>2</th>\n",
              "      <td>2</td>\n",
              "      <td>2015-12-13</td>\n",
              "      <td>0.93</td>\n",
              "      <td>118220.22</td>\n",
              "      <td>794.70</td>\n",
              "      <td>109149.67</td>\n",
              "      <td>130.50</td>\n",
              "      <td>8145.35</td>\n",
              "      <td>8042.21</td>\n",
              "      <td>103.14</td>\n",
              "      <td>0.0</td>\n",
              "      <td>conventional</td>\n",
              "      <td>2015</td>\n",
              "      <td>Albany</td>\n",
              "    </tr>\n",
              "    <tr>\n",
              "      <th>3</th>\n",
              "      <td>3</td>\n",
              "      <td>2015-12-06</td>\n",
              "      <td>1.08</td>\n",
              "      <td>78992.15</td>\n",
              "      <td>1132.00</td>\n",
              "      <td>71976.41</td>\n",
              "      <td>72.58</td>\n",
              "      <td>5811.16</td>\n",
              "      <td>5677.40</td>\n",
              "      <td>133.76</td>\n",
              "      <td>0.0</td>\n",
              "      <td>conventional</td>\n",
              "      <td>2015</td>\n",
              "      <td>Albany</td>\n",
              "    </tr>\n",
              "    <tr>\n",
              "      <th>4</th>\n",
              "      <td>4</td>\n",
              "      <td>2015-11-29</td>\n",
              "      <td>1.28</td>\n",
              "      <td>51039.60</td>\n",
              "      <td>941.48</td>\n",
              "      <td>43838.39</td>\n",
              "      <td>75.78</td>\n",
              "      <td>6183.95</td>\n",
              "      <td>5986.26</td>\n",
              "      <td>197.69</td>\n",
              "      <td>0.0</td>\n",
              "      <td>conventional</td>\n",
              "      <td>2015</td>\n",
              "      <td>Albany</td>\n",
              "    </tr>\n",
              "    <tr>\n",
              "      <th>...</th>\n",
              "      <td>...</td>\n",
              "      <td>...</td>\n",
              "      <td>...</td>\n",
              "      <td>...</td>\n",
              "      <td>...</td>\n",
              "      <td>...</td>\n",
              "      <td>...</td>\n",
              "      <td>...</td>\n",
              "      <td>...</td>\n",
              "      <td>...</td>\n",
              "      <td>...</td>\n",
              "      <td>...</td>\n",
              "      <td>...</td>\n",
              "      <td>...</td>\n",
              "    </tr>\n",
              "    <tr>\n",
              "      <th>18244</th>\n",
              "      <td>7</td>\n",
              "      <td>2018-02-04</td>\n",
              "      <td>1.63</td>\n",
              "      <td>17074.83</td>\n",
              "      <td>2046.96</td>\n",
              "      <td>1529.20</td>\n",
              "      <td>0.00</td>\n",
              "      <td>13498.67</td>\n",
              "      <td>13066.82</td>\n",
              "      <td>431.85</td>\n",
              "      <td>0.0</td>\n",
              "      <td>organic</td>\n",
              "      <td>2018</td>\n",
              "      <td>WestTexNewMexico</td>\n",
              "    </tr>\n",
              "    <tr>\n",
              "      <th>18245</th>\n",
              "      <td>8</td>\n",
              "      <td>2018-01-28</td>\n",
              "      <td>1.71</td>\n",
              "      <td>13888.04</td>\n",
              "      <td>1191.70</td>\n",
              "      <td>3431.50</td>\n",
              "      <td>0.00</td>\n",
              "      <td>9264.84</td>\n",
              "      <td>8940.04</td>\n",
              "      <td>324.80</td>\n",
              "      <td>0.0</td>\n",
              "      <td>organic</td>\n",
              "      <td>2018</td>\n",
              "      <td>WestTexNewMexico</td>\n",
              "    </tr>\n",
              "    <tr>\n",
              "      <th>18246</th>\n",
              "      <td>9</td>\n",
              "      <td>2018-01-21</td>\n",
              "      <td>1.87</td>\n",
              "      <td>13766.76</td>\n",
              "      <td>1191.92</td>\n",
              "      <td>2452.79</td>\n",
              "      <td>727.94</td>\n",
              "      <td>9394.11</td>\n",
              "      <td>9351.80</td>\n",
              "      <td>42.31</td>\n",
              "      <td>0.0</td>\n",
              "      <td>organic</td>\n",
              "      <td>2018</td>\n",
              "      <td>WestTexNewMexico</td>\n",
              "    </tr>\n",
              "    <tr>\n",
              "      <th>18247</th>\n",
              "      <td>10</td>\n",
              "      <td>2018-01-14</td>\n",
              "      <td>1.93</td>\n",
              "      <td>16205.22</td>\n",
              "      <td>1527.63</td>\n",
              "      <td>2981.04</td>\n",
              "      <td>727.01</td>\n",
              "      <td>10969.54</td>\n",
              "      <td>10919.54</td>\n",
              "      <td>50.00</td>\n",
              "      <td>0.0</td>\n",
              "      <td>organic</td>\n",
              "      <td>2018</td>\n",
              "      <td>WestTexNewMexico</td>\n",
              "    </tr>\n",
              "    <tr>\n",
              "      <th>18248</th>\n",
              "      <td>11</td>\n",
              "      <td>2018-01-07</td>\n",
              "      <td>1.62</td>\n",
              "      <td>17489.58</td>\n",
              "      <td>2894.77</td>\n",
              "      <td>2356.13</td>\n",
              "      <td>224.53</td>\n",
              "      <td>12014.15</td>\n",
              "      <td>11988.14</td>\n",
              "      <td>26.01</td>\n",
              "      <td>0.0</td>\n",
              "      <td>organic</td>\n",
              "      <td>2018</td>\n",
              "      <td>WestTexNewMexico</td>\n",
              "    </tr>\n",
              "  </tbody>\n",
              "</table>\n",
              "<p>18249 rows × 14 columns</p>\n",
              "</div>"
            ],
            "text/plain": [
              "       Unnamed: 0        Date  ...  year            region\n",
              "0               0  2015-12-27  ...  2015            Albany\n",
              "1               1  2015-12-20  ...  2015            Albany\n",
              "2               2  2015-12-13  ...  2015            Albany\n",
              "3               3  2015-12-06  ...  2015            Albany\n",
              "4               4  2015-11-29  ...  2015            Albany\n",
              "...           ...         ...  ...   ...               ...\n",
              "18244           7  2018-02-04  ...  2018  WestTexNewMexico\n",
              "18245           8  2018-01-28  ...  2018  WestTexNewMexico\n",
              "18246           9  2018-01-21  ...  2018  WestTexNewMexico\n",
              "18247          10  2018-01-14  ...  2018  WestTexNewMexico\n",
              "18248          11  2018-01-07  ...  2018  WestTexNewMexico\n",
              "\n",
              "[18249 rows x 14 columns]"
            ]
          },
          "execution_count": 11,
          "metadata": {},
          "output_type": "execute_result"
        }
      ],
      "source": [
        "import pandas as pd\n",
        "df=pd.read_csv('/content/avocado.csv')\n",
        "df"
      ]
    },
    {
      "cell_type": "code",
      "execution_count": 42,
      "metadata": {
        "colab": {
          "base_uri": "https://localhost:8080/",
          "height": 35
        },
        "id": "Dm25i0ux-ltV",
        "outputId": "351040f2-834d-470a-8202-db2ff3355b56"
      },
      "outputs": [
        {
          "data": {
            "application/vnd.google.colaboratory.intrinsic+json": {
              "type": "string"
            },
            "text/plain": [
              "'2018-02-04'"
            ]
          },
          "execution_count": 42,
          "metadata": {},
          "output_type": "execute_result"
        }
      ],
      "source": [
        "# Find the date when maximum total volume transaction is done\n",
        "df1=df[df['Total Volume']==df['Total Volume'].max()]\n",
        "df1.Date.max()\n",
        "\n",
        "# df.loc[(df['Total Volume']==df['Total Volume'].max()),'Date']\n",
        "# o/p:\n",
        "# \"\"\"\n",
        "# 9097    2018-02-04\n",
        "# Name: Date, dtype: object\n",
        "# \"\"\"\n",
        "\n",
        "# type(df1.Date.max()) # type: str\n",
        "\n",
        "# \"\"\"\n",
        "# command :df1.Date  , df1[\"Date\"]\n",
        "# o/p: \n",
        "# 9097    2018-02-04\n",
        "# Name: Date, dtype: object\n",
        "# \"\"\""
      ]
    },
    {
      "cell_type": "code",
      "execution_count": 15,
      "metadata": {
        "colab": {
          "base_uri": "https://localhost:8080/"
        },
        "id": "gKLcSMvF-2xT",
        "outputId": "f788343e-3b12-4086-f965-4b2d82fb5fac"
      },
      "outputs": [
        {
          "data": {
            "text/plain": [
              "Date        region             \n",
              "2015-01-04  Albany                 2\n",
              "            Atlanta                2\n",
              "            BaltimoreWashington    2\n",
              "            Boise                  2\n",
              "            Boston                 2\n",
              "                                  ..\n",
              "2018-03-25  Syracuse               2\n",
              "            Tampa                  2\n",
              "            TotalUS                2\n",
              "            West                   2\n",
              "            WestTexNewMexico       2\n",
              "Name: type, Length: 9126, dtype: int64"
            ]
          },
          "execution_count": 15,
          "metadata": {},
          "output_type": "execute_result"
        }
      ],
      "source": [
        "# Find the total of bags including both conventional and organic types, for every day and every region ( Hint: use group by)\n",
        "df.type.unique() #array(['conventional', 'organic'], dtype=object)\n",
        "df.groupby(['Date','region'])['type'].count()\n"
      ]
    },
    {
      "cell_type": "code",
      "execution_count": 36,
      "metadata": {
        "colab": {
          "base_uri": "https://localhost:8080/",
          "height": 80
        },
        "id": "ip0MaJm_AO-c",
        "outputId": "fad07dd9-9403-4b52-a1d0-8a4d0ba375ed"
      },
      "outputs": [
        {
          "data": {
            "text/html": [
              "<div>\n",
              "<style scoped>\n",
              "    .dataframe tbody tr th:only-of-type {\n",
              "        vertical-align: middle;\n",
              "    }\n",
              "\n",
              "    .dataframe tbody tr th {\n",
              "        vertical-align: top;\n",
              "    }\n",
              "\n",
              "    .dataframe thead th {\n",
              "        text-align: right;\n",
              "    }\n",
              "</style>\n",
              "<table border=\"1\" class=\"dataframe\">\n",
              "  <thead>\n",
              "    <tr style=\"text-align: right;\">\n",
              "      <th></th>\n",
              "      <th>Total Volume</th>\n",
              "      <th>region</th>\n",
              "    </tr>\n",
              "  </thead>\n",
              "  <tbody>\n",
              "    <tr>\n",
              "      <th>12278</th>\n",
              "      <td>256669.13</td>\n",
              "      <td>California</td>\n",
              "    </tr>\n",
              "  </tbody>\n",
              "</table>\n",
              "</div>"
            ],
            "text/plain": [
              "       Total Volume      region\n",
              "12278     256669.13  California"
            ]
          },
          "execution_count": 36,
          "metadata": {},
          "output_type": "execute_result"
        }
      ],
      "source": [
        "# Find the region where maximum total volume of organic avocado were sold in year 2016\n",
        "df1=df[(df['year']==2016) & (df['type']=='organic')]\n",
        "df1\n",
        "df2=df1.loc[(df['region']!='TotalUS') &(df['region']!='Northeast') &(df['region']!='Southeast') &(df['region']!='West') & (df['region']!='SouthCentral')]\n",
        "df2\n",
        "df2.loc[(df2['Total Volume']==df2['Total Volume'].max()),['Total Volume','region']]\n",
        "# df['region'].unique()"
      ]
    },
    {
      "cell_type": "code",
      "execution_count": null,
      "metadata": {
        "id": "Hs4OdiKRA6CA"
      },
      "outputs": [],
      "source": []
    }
  ],
  "metadata": {
    "colab": {
      "collapsed_sections": [],
      "name": "Practice_pandas_queries.ipynb",
      "provenance": []
    },
    "kernelspec": {
      "display_name": "Python 3",
      "name": "python3"
    },
    "language_info": {
      "name": "python"
    }
  },
  "nbformat": 4,
  "nbformat_minor": 0
}
